{
  "nbformat": 4,
  "nbformat_minor": 0,
  "metadata": {
    "colab": {
      "provenance": []
    },
    "kernelspec": {
      "name": "python3",
      "display_name": "Python 3"
    },
    "language_info": {
      "name": "python"
    }
  },
  "cells": [
    {
      "cell_type": "code",
      "source": [
        "# Excel Concatenation (Concate excel dataset data pangan big data)\n",
        "\n",
        "# Library import\n",
        "import pandas as pd\n",
        "\n",
        "# Read the dataset\n",
        "df1 = pd.read_excel('jan2018.xlsx')\n",
        "df2 = pd.read_excel('feb2018.xlsx')\n",
        "df3 = pd.read_excel('mar2018.xlsx')\n",
        "df4 = pd.read_excel('apr2018.xlsx')\n",
        "df5 = pd.read_excel('mei2018.xlsx')\n",
        "df6 = pd.read_excel('jun2018.xlsx')\n",
        "df7 = pd.read_excel('jul2018.xlsx')\n",
        "df8 = pd.read_excel('aug2018.xlsx')\n",
        "df9 = pd.read_excel('sep2018.xlsx')\n",
        "df10 = pd.read_excel('okt2018.xlsx')\n",
        "df11= pd.read_excel('nov2018.xlsx')\n",
        "df12 = pd.read_excel('des2018.xlsx')\n",
        "\n",
        "# Pandas concat on Multiple read_excels Example\n",
        "concat_df = pd.concat([df1, df2, df3, df4, df5, df6, df7, df8, df9, df10, df11, df12], axis=1)\n",
        "\n",
        "# Drop the duplicate column\n",
        "df_new = concat_df.loc[:,~concat_df.columns.duplicated()]\n",
        "\n",
        "# Write the concat data frame to a new Excel file\n",
        "df_new.to_excel('2018_datapangan.xlsx', index=False)"
      ],
      "metadata": {
        "id": "6MCdtV4HgHUu"
      },
      "execution_count": null,
      "outputs": []
    }
  ]
}